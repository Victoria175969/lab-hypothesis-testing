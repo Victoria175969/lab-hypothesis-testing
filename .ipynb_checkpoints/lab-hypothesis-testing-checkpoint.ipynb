{
 "cells": [
  {
   "cell_type": "markdown",
   "metadata": {},
   "source": [
    "# Lab | Hypothesis Testing"
   ]
  },
  {
   "cell_type": "markdown",
   "metadata": {},
   "source": [
    "**Objective**\n",
    "\n",
    "Welcome to the Hypothesis Testing Lab, where we embark on an enlightening journey through the realm of statistical decision-making! In this laboratory, we delve into various scenarios, applying the powerful tools of hypothesis testing to scrutinize and interpret data.\n",
    "\n",
    "From testing the mean of a single sample (One Sample T-Test), to investigating differences between independent groups (Two Sample T-Test), and exploring relationships within dependent samples (Paired Sample T-Test), our exploration knows no bounds. Furthermore, we'll venture into the realm of Analysis of Variance (ANOVA), unraveling the complexities of comparing means across multiple groups.\n",
    "\n",
    "So, grab your statistical tools, prepare your hypotheses, and let's embark on this fascinating journey of exploration and discovery in the world of hypothesis testing!"
   ]
  },
  {
   "cell_type": "markdown",
   "metadata": {},
   "source": [
    "**Challenge 1**"
   ]
  },
  {
   "cell_type": "markdown",
   "metadata": {},
   "source": [
    "In this challenge, we will be working with pokemon data. The data can be found here:\n",
    "\n",
    "- https://raw.githubusercontent.com/data-bootcamp-v4/data/main/pokemon.csv"
   ]
  },
  {
   "cell_type": "code",
   "execution_count": 25,
   "metadata": {},
   "outputs": [],
   "source": [
    "#libraries\n",
    "import pandas as pd\n",
    "import scipy.stats as st\n",
    "import numpy as np\n",
    "\n"
   ]
  },
  {
   "cell_type": "code",
   "execution_count": 26,
   "metadata": {
    "scrolled": true
   },
   "outputs": [
    {
     "data": {
      "text/html": [
       "<div>\n",
       "<style scoped>\n",
       "    .dataframe tbody tr th:only-of-type {\n",
       "        vertical-align: middle;\n",
       "    }\n",
       "\n",
       "    .dataframe tbody tr th {\n",
       "        vertical-align: top;\n",
       "    }\n",
       "\n",
       "    .dataframe thead th {\n",
       "        text-align: right;\n",
       "    }\n",
       "</style>\n",
       "<table border=\"1\" class=\"dataframe\">\n",
       "  <thead>\n",
       "    <tr style=\"text-align: right;\">\n",
       "      <th></th>\n",
       "      <th>Name</th>\n",
       "      <th>Type 1</th>\n",
       "      <th>Type 2</th>\n",
       "      <th>HP</th>\n",
       "      <th>Attack</th>\n",
       "      <th>Defense</th>\n",
       "      <th>Sp. Atk</th>\n",
       "      <th>Sp. Def</th>\n",
       "      <th>Speed</th>\n",
       "      <th>Generation</th>\n",
       "      <th>Legendary</th>\n",
       "    </tr>\n",
       "  </thead>\n",
       "  <tbody>\n",
       "    <tr>\n",
       "      <th>0</th>\n",
       "      <td>Bulbasaur</td>\n",
       "      <td>Grass</td>\n",
       "      <td>Poison</td>\n",
       "      <td>45</td>\n",
       "      <td>49</td>\n",
       "      <td>49</td>\n",
       "      <td>65</td>\n",
       "      <td>65</td>\n",
       "      <td>45</td>\n",
       "      <td>1</td>\n",
       "      <td>False</td>\n",
       "    </tr>\n",
       "    <tr>\n",
       "      <th>1</th>\n",
       "      <td>Ivysaur</td>\n",
       "      <td>Grass</td>\n",
       "      <td>Poison</td>\n",
       "      <td>60</td>\n",
       "      <td>62</td>\n",
       "      <td>63</td>\n",
       "      <td>80</td>\n",
       "      <td>80</td>\n",
       "      <td>60</td>\n",
       "      <td>1</td>\n",
       "      <td>False</td>\n",
       "    </tr>\n",
       "    <tr>\n",
       "      <th>2</th>\n",
       "      <td>Venusaur</td>\n",
       "      <td>Grass</td>\n",
       "      <td>Poison</td>\n",
       "      <td>80</td>\n",
       "      <td>82</td>\n",
       "      <td>83</td>\n",
       "      <td>100</td>\n",
       "      <td>100</td>\n",
       "      <td>80</td>\n",
       "      <td>1</td>\n",
       "      <td>False</td>\n",
       "    </tr>\n",
       "    <tr>\n",
       "      <th>3</th>\n",
       "      <td>Mega Venusaur</td>\n",
       "      <td>Grass</td>\n",
       "      <td>Poison</td>\n",
       "      <td>80</td>\n",
       "      <td>100</td>\n",
       "      <td>123</td>\n",
       "      <td>122</td>\n",
       "      <td>120</td>\n",
       "      <td>80</td>\n",
       "      <td>1</td>\n",
       "      <td>False</td>\n",
       "    </tr>\n",
       "    <tr>\n",
       "      <th>4</th>\n",
       "      <td>Charmander</td>\n",
       "      <td>Fire</td>\n",
       "      <td>NaN</td>\n",
       "      <td>39</td>\n",
       "      <td>52</td>\n",
       "      <td>43</td>\n",
       "      <td>60</td>\n",
       "      <td>50</td>\n",
       "      <td>65</td>\n",
       "      <td>1</td>\n",
       "      <td>False</td>\n",
       "    </tr>\n",
       "    <tr>\n",
       "      <th>...</th>\n",
       "      <td>...</td>\n",
       "      <td>...</td>\n",
       "      <td>...</td>\n",
       "      <td>...</td>\n",
       "      <td>...</td>\n",
       "      <td>...</td>\n",
       "      <td>...</td>\n",
       "      <td>...</td>\n",
       "      <td>...</td>\n",
       "      <td>...</td>\n",
       "      <td>...</td>\n",
       "    </tr>\n",
       "    <tr>\n",
       "      <th>795</th>\n",
       "      <td>Diancie</td>\n",
       "      <td>Rock</td>\n",
       "      <td>Fairy</td>\n",
       "      <td>50</td>\n",
       "      <td>100</td>\n",
       "      <td>150</td>\n",
       "      <td>100</td>\n",
       "      <td>150</td>\n",
       "      <td>50</td>\n",
       "      <td>6</td>\n",
       "      <td>True</td>\n",
       "    </tr>\n",
       "    <tr>\n",
       "      <th>796</th>\n",
       "      <td>Mega Diancie</td>\n",
       "      <td>Rock</td>\n",
       "      <td>Fairy</td>\n",
       "      <td>50</td>\n",
       "      <td>160</td>\n",
       "      <td>110</td>\n",
       "      <td>160</td>\n",
       "      <td>110</td>\n",
       "      <td>110</td>\n",
       "      <td>6</td>\n",
       "      <td>True</td>\n",
       "    </tr>\n",
       "    <tr>\n",
       "      <th>797</th>\n",
       "      <td>Hoopa Confined</td>\n",
       "      <td>Psychic</td>\n",
       "      <td>Ghost</td>\n",
       "      <td>80</td>\n",
       "      <td>110</td>\n",
       "      <td>60</td>\n",
       "      <td>150</td>\n",
       "      <td>130</td>\n",
       "      <td>70</td>\n",
       "      <td>6</td>\n",
       "      <td>True</td>\n",
       "    </tr>\n",
       "    <tr>\n",
       "      <th>798</th>\n",
       "      <td>Hoopa Unbound</td>\n",
       "      <td>Psychic</td>\n",
       "      <td>Dark</td>\n",
       "      <td>80</td>\n",
       "      <td>160</td>\n",
       "      <td>60</td>\n",
       "      <td>170</td>\n",
       "      <td>130</td>\n",
       "      <td>80</td>\n",
       "      <td>6</td>\n",
       "      <td>True</td>\n",
       "    </tr>\n",
       "    <tr>\n",
       "      <th>799</th>\n",
       "      <td>Volcanion</td>\n",
       "      <td>Fire</td>\n",
       "      <td>Water</td>\n",
       "      <td>80</td>\n",
       "      <td>110</td>\n",
       "      <td>120</td>\n",
       "      <td>130</td>\n",
       "      <td>90</td>\n",
       "      <td>70</td>\n",
       "      <td>6</td>\n",
       "      <td>True</td>\n",
       "    </tr>\n",
       "  </tbody>\n",
       "</table>\n",
       "<p>800 rows × 11 columns</p>\n",
       "</div>"
      ],
      "text/plain": [
       "               Name   Type 1  Type 2  HP  Attack  Defense  Sp. Atk  Sp. Def  \\\n",
       "0         Bulbasaur    Grass  Poison  45      49       49       65       65   \n",
       "1           Ivysaur    Grass  Poison  60      62       63       80       80   \n",
       "2          Venusaur    Grass  Poison  80      82       83      100      100   \n",
       "3     Mega Venusaur    Grass  Poison  80     100      123      122      120   \n",
       "4        Charmander     Fire     NaN  39      52       43       60       50   \n",
       "..              ...      ...     ...  ..     ...      ...      ...      ...   \n",
       "795         Diancie     Rock   Fairy  50     100      150      100      150   \n",
       "796    Mega Diancie     Rock   Fairy  50     160      110      160      110   \n",
       "797  Hoopa Confined  Psychic   Ghost  80     110       60      150      130   \n",
       "798   Hoopa Unbound  Psychic    Dark  80     160       60      170      130   \n",
       "799       Volcanion     Fire   Water  80     110      120      130       90   \n",
       "\n",
       "     Speed  Generation  Legendary  \n",
       "0       45           1      False  \n",
       "1       60           1      False  \n",
       "2       80           1      False  \n",
       "3       80           1      False  \n",
       "4       65           1      False  \n",
       "..     ...         ...        ...  \n",
       "795     50           6       True  \n",
       "796    110           6       True  \n",
       "797     70           6       True  \n",
       "798     80           6       True  \n",
       "799     70           6       True  \n",
       "\n",
       "[800 rows x 11 columns]"
      ]
     },
     "execution_count": 26,
     "metadata": {},
     "output_type": "execute_result"
    }
   ],
   "source": [
    "df = pd.read_csv(\"https://raw.githubusercontent.com/data-bootcamp-v4/data/main/pokemon.csv\")\n",
    "df"
   ]
  },
  {
   "cell_type": "markdown",
   "metadata": {},
   "source": [
    "- We posit that Pokemons of type Dragon have, on average, more HP stats than Grass. Choose the propper test and, with 5% significance, comment your findings."
   ]
  },
  {
   "cell_type": "code",
   "execution_count": 28,
   "metadata": {},
   "outputs": [],
   "source": [
    "#Set the hypothesis\n",
    "\n",
    "#H0: mu (HP) Dragons !> mu (HP) Grass\n",
    "#H1: mu (HP) Dragons > mu (HP) Grass"
   ]
  },
  {
   "cell_type": "code",
   "execution_count": 29,
   "metadata": {},
   "outputs": [],
   "source": [
    "# Choose the significance level\n",
    "alpha = 0.05"
   ]
  },
  {
   "cell_type": "code",
   "execution_count": 30,
   "metadata": {},
   "outputs": [],
   "source": [
    "dragon_1 = df[df[\"Type 1\"]==\"Dragon\"][\"HP\"] \n",
    "grass_1 = df[df[\"Type 1\"]==\"Grass\"][\"HP\"]"
   ]
  },
  {
   "cell_type": "code",
   "execution_count": 31,
   "metadata": {},
   "outputs": [
    {
     "data": {
      "text/plain": [
       "TtestResult(statistic=3.590444254130357, pvalue=0.0002567969150153481, df=100.0)"
      ]
     },
     "execution_count": 31,
     "metadata": {},
     "output_type": "execute_result"
    }
   ],
   "source": [
    "st.ttest_ind(dragon_1,grass_1, alternative = 'greater')"
   ]
  },
  {
   "cell_type": "code",
   "execution_count": 32,
   "metadata": {},
   "outputs": [
    {
     "data": {
      "text/plain": [
       "0.0002567969150153481"
      ]
     },
     "execution_count": 32,
     "metadata": {},
     "output_type": "execute_result"
    }
   ],
   "source": [
    "_, p_value1 = st.ttest_ind(dragon_1,grass_1, alternative = 'greater')\n",
    "p_value1"
   ]
  },
  {
   "cell_type": "code",
   "execution_count": 33,
   "metadata": {},
   "outputs": [],
   "source": [
    "dragon_2 = df[df[\"Type 2\"]==\"Dragon\"][\"HP\"] \n",
    "grass_2 = df[df[\"Type 2\"]==\"Grass\"][\"HP\"]"
   ]
  },
  {
   "cell_type": "code",
   "execution_count": 34,
   "metadata": {},
   "outputs": [
    {
     "data": {
      "text/plain": [
       "TtestResult(statistic=2.762339453101214, pvalue=0.004275578527673753, df=41.0)"
      ]
     },
     "execution_count": 34,
     "metadata": {},
     "output_type": "execute_result"
    }
   ],
   "source": [
    "st.ttest_ind(dragon_2,grass_2, alternative='greater')"
   ]
  },
  {
   "cell_type": "code",
   "execution_count": 35,
   "metadata": {},
   "outputs": [
    {
     "data": {
      "text/plain": [
       "0.004275578527673753"
      ]
     },
     "execution_count": 35,
     "metadata": {},
     "output_type": "execute_result"
    }
   ],
   "source": [
    "_, p_value2 = st.ttest_ind(dragon_2,grass_2, alternative = 'greater')\n",
    "p_value2"
   ]
  },
  {
   "cell_type": "code",
   "execution_count": 36,
   "metadata": {},
   "outputs": [
    {
     "name": "stdout",
     "output_type": "stream",
     "text": [
      "We reject the null hypothesis\n"
     ]
    }
   ],
   "source": [
    "if p_value1 > alpha and p_value2 > alpha:\n",
    "    print(\"We are not able to reject the null hypothesis\")\n",
    "else:\n",
    "    print(\"We reject the null hypothesis\")"
   ]
  },
  {
   "cell_type": "code",
   "execution_count": 37,
   "metadata": {},
   "outputs": [],
   "source": [
    "# Because p_value is lower than significance level, we can reject the null hypothesis \n",
    "# On average, Pokemons of type Dragon have more HP stats than Pokemons of type Grass"
   ]
  },
  {
   "cell_type": "markdown",
   "metadata": {},
   "source": [
    "- We posit that Legendary Pokemons have different stats (HP, Attack, Defense, Sp.Atk, Sp.Def, Speed) when comparing with Non-Legendary. Choose the propper test and, with 5% significance, comment your findings.\n"
   ]
  },
  {
   "cell_type": "code",
   "execution_count": 39,
   "metadata": {},
   "outputs": [],
   "source": [
    "#Set the hypothesis\n",
    "\n",
    "#H0: mu Legendary (HP, Attack, Defense, Sp.Attack, Sp.Def, Speed) = mu Non-Legendary (HP, Attack, Defense, Sp.Attack, Sp.Def, Speed)\n",
    "#H1: mu Legendary (HP, Attack, Defense, Sp.Attack, Sp.Def, Speed) != mu Non-Legendary (HP, Attack, Defense, Sp.Attack, Sp.Def, Speed)\n"
   ]
  },
  {
   "cell_type": "code",
   "execution_count": 40,
   "metadata": {},
   "outputs": [],
   "source": [
    "# Choose the significance level\n",
    "alpha = 0.05"
   ]
  },
  {
   "cell_type": "code",
   "execution_count": 41,
   "metadata": {},
   "outputs": [
    {
     "data": {
      "text/plain": [
       "(156     90\n",
       " 157     90\n",
       " 158     90\n",
       " 162    106\n",
       " 163    106\n",
       "       ... \n",
       " 795     50\n",
       " 796     50\n",
       " 797     80\n",
       " 798     80\n",
       " 799     80\n",
       " Name: HP, Length: 65, dtype: int64,\n",
       " 0      45\n",
       " 1      60\n",
       " 2      80\n",
       " 3      80\n",
       " 4      39\n",
       "        ..\n",
       " 787    85\n",
       " 788    55\n",
       " 789    95\n",
       " 790    40\n",
       " 791    85\n",
       " Name: HP, Length: 735, dtype: int64)"
      ]
     },
     "execution_count": 41,
     "metadata": {},
     "output_type": "execute_result"
    }
   ],
   "source": [
    "legendary_hp = df[df[\"Legendary\"]==True][\"HP\"] \n",
    "non_legendary_hp = df[df[\"Legendary\"]==False][\"HP\"]\n",
    "legendary_hp , non_legendary_hp"
   ]
  },
  {
   "cell_type": "code",
   "execution_count": 42,
   "metadata": {},
   "outputs": [
    {
     "data": {
      "text/plain": [
       "(156     85\n",
       " 157     90\n",
       " 158    100\n",
       " 162    110\n",
       " 163    190\n",
       "       ... \n",
       " 795    100\n",
       " 796    160\n",
       " 797    110\n",
       " 798    160\n",
       " 799    110\n",
       " Name: Attack, Length: 65, dtype: int64,\n",
       " 0       49\n",
       " 1       62\n",
       " 2       82\n",
       " 3      100\n",
       " 4       52\n",
       "       ... \n",
       " 787    100\n",
       " 788     69\n",
       " 789    117\n",
       " 790     30\n",
       " 791     70\n",
       " Name: Attack, Length: 735, dtype: int64)"
      ]
     },
     "execution_count": 42,
     "metadata": {},
     "output_type": "execute_result"
    }
   ],
   "source": [
    "\n",
    "legendary_attack = df[df[\"Legendary\"]==True][\"Attack\"] \n",
    "non_legendary_attack = df[df[\"Legendary\"]==False][\"Attack\"]\n",
    "legendary_attack , non_legendary_attack"
   ]
  },
  {
   "cell_type": "code",
   "execution_count": 43,
   "metadata": {},
   "outputs": [
    {
     "data": {
      "text/plain": [
       "(156    100\n",
       " 157     85\n",
       " 158     90\n",
       " 162     90\n",
       " 163    100\n",
       "       ... \n",
       " 795    150\n",
       " 796    110\n",
       " 797     60\n",
       " 798     60\n",
       " 799    120\n",
       " Name: Defense, Length: 65, dtype: int64,\n",
       " 0       49\n",
       " 1       63\n",
       " 2       83\n",
       " 3      123\n",
       " 4       43\n",
       "       ... \n",
       " 787    122\n",
       " 788     85\n",
       " 789    184\n",
       " 790     35\n",
       " 791     80\n",
       " Name: Defense, Length: 735, dtype: int64)"
      ]
     },
     "execution_count": 43,
     "metadata": {},
     "output_type": "execute_result"
    }
   ],
   "source": [
    "legendary_defense = df[df[\"Legendary\"]==True][\"Defense\"] \n",
    "non_legendary_defense = df[df[\"Legendary\"]==False][\"Defense\"]\n",
    "legendary_defense , non_legendary_defense"
   ]
  },
  {
   "cell_type": "code",
   "execution_count": 44,
   "metadata": {},
   "outputs": [
    {
     "data": {
      "text/plain": [
       "(156     95\n",
       " 157    125\n",
       " 158    125\n",
       " 162    154\n",
       " 163    154\n",
       "       ... \n",
       " 795    100\n",
       " 796    160\n",
       " 797    150\n",
       " 798    170\n",
       " 799    130\n",
       " Name: Sp. Atk, Length: 65, dtype: int64,\n",
       " 0       65\n",
       " 1       80\n",
       " 2      100\n",
       " 3      122\n",
       " 4       60\n",
       "       ... \n",
       " 787     58\n",
       " 788     32\n",
       " 789     44\n",
       " 790     45\n",
       " 791     97\n",
       " Name: Sp. Atk, Length: 735, dtype: int64)"
      ]
     },
     "execution_count": 44,
     "metadata": {},
     "output_type": "execute_result"
    }
   ],
   "source": [
    "legendary_sp_attack = df[df[\"Legendary\"]==True][\"Sp. Atk\"] \n",
    "non_legendary_sp_attack = df[df[\"Legendary\"]==False][\"Sp. Atk\"]\n",
    "legendary_sp_attack , non_legendary_sp_attack"
   ]
  },
  {
   "cell_type": "code",
   "execution_count": 45,
   "metadata": {},
   "outputs": [
    {
     "data": {
      "text/plain": [
       "(156    125\n",
       " 157     90\n",
       " 158     85\n",
       " 162     90\n",
       " 163    100\n",
       "       ... \n",
       " 795    150\n",
       " 796    110\n",
       " 797    130\n",
       " 798    130\n",
       " 799     90\n",
       " Name: Sp. Def, Length: 65, dtype: int64,\n",
       " 0       65\n",
       " 1       80\n",
       " 2      100\n",
       " 3      120\n",
       " 4       50\n",
       "       ... \n",
       " 787     75\n",
       " 788     35\n",
       " 789     46\n",
       " 790     40\n",
       " 791     80\n",
       " Name: Sp. Def, Length: 735, dtype: int64)"
      ]
     },
     "execution_count": 45,
     "metadata": {},
     "output_type": "execute_result"
    }
   ],
   "source": [
    "legendary_sp_def = df[df[\"Legendary\"]==True][\"Sp. Def\"] \n",
    "non_legendary_sp_def = df[df[\"Legendary\"]==False][\"Sp. Def\"]\n",
    "legendary_sp_def , non_legendary_sp_def"
   ]
  },
  {
   "cell_type": "code",
   "execution_count": 46,
   "metadata": {},
   "outputs": [
    {
     "data": {
      "text/plain": [
       "(156     85\n",
       " 157    100\n",
       " 158     90\n",
       " 162    130\n",
       " 163    130\n",
       "       ... \n",
       " 795     50\n",
       " 796    110\n",
       " 797     70\n",
       " 798     80\n",
       " 799     70\n",
       " Name: Speed, Length: 65, dtype: int64,\n",
       " 0       45\n",
       " 1       60\n",
       " 2       80\n",
       " 3       80\n",
       " 4       65\n",
       "       ... \n",
       " 787     54\n",
       " 788     28\n",
       " 789     28\n",
       " 790     55\n",
       " 791    123\n",
       " Name: Speed, Length: 735, dtype: int64)"
      ]
     },
     "execution_count": 46,
     "metadata": {},
     "output_type": "execute_result"
    }
   ],
   "source": [
    "legendary_speed = df[df[\"Legendary\"]==True][\"Speed\"] \n",
    "non_legendary_speed = df[df[\"Legendary\"]==False][\"Speed\"]\n",
    "legendary_speed , non_legendary_speed"
   ]
  },
  {
   "cell_type": "code",
   "execution_count": 47,
   "metadata": {},
   "outputs": [],
   "source": [
    "_, p_value1 = st.ttest_ind(legendary_hp,non_legendary_hp, alternative ='two-sided')"
   ]
  },
  {
   "cell_type": "code",
   "execution_count": 48,
   "metadata": {},
   "outputs": [],
   "source": [
    "_, p_value2 = st.ttest_ind(legendary_attack,non_legendary_attack, alternative ='two-sided')"
   ]
  },
  {
   "cell_type": "code",
   "execution_count": 49,
   "metadata": {},
   "outputs": [],
   "source": [
    "_, p_value3 = st.ttest_ind(legendary_defense,non_legendary_defense, alternative ='two-sided')"
   ]
  },
  {
   "cell_type": "code",
   "execution_count": 50,
   "metadata": {},
   "outputs": [],
   "source": [
    "_, p_value4 = st.ttest_ind(legendary_sp_attack,non_legendary_sp_attack, alternative ='two-sided')"
   ]
  },
  {
   "cell_type": "code",
   "execution_count": 51,
   "metadata": {},
   "outputs": [],
   "source": [
    "_, p_value5 = st.ttest_ind(legendary_sp_def,non_legendary_sp_def, alternative ='two-sided')"
   ]
  },
  {
   "cell_type": "code",
   "execution_count": 52,
   "metadata": {},
   "outputs": [],
   "source": [
    "_, p_value6 = st.ttest_ind(legendary_speed,non_legendary_speed, alternative ='two-sided')"
   ]
  },
  {
   "cell_type": "code",
   "execution_count": 53,
   "metadata": {},
   "outputs": [
    {
     "name": "stdout",
     "output_type": "stream",
     "text": [
      "We reject the null hypothesis\n"
     ]
    }
   ],
   "source": [
    "if p_value1 > alpha and p_value2 > alpha and p_value3 > alpha and p_value4 and p_value5 > alpha and p_value6 > alpha   :\n",
    "    print(\"We are not able to reject the null hypothesis\")\n",
    "else:\n",
    "    print(\"We reject the null hypothesis\")"
   ]
  },
  {
   "cell_type": "markdown",
   "metadata": {},
   "source": [
    "**Challenge 2**"
   ]
  },
  {
   "cell_type": "markdown",
   "metadata": {},
   "source": [
    "In this challenge, we will be working with california-housing data. The data can be found here:\n",
    "- https://raw.githubusercontent.com/data-bootcamp-v4/data/main/california_housing.csv"
   ]
  },
  {
   "cell_type": "code",
   "execution_count": 56,
   "metadata": {
    "scrolled": true
   },
   "outputs": [
    {
     "data": {
      "text/html": [
       "<div>\n",
       "<style scoped>\n",
       "    .dataframe tbody tr th:only-of-type {\n",
       "        vertical-align: middle;\n",
       "    }\n",
       "\n",
       "    .dataframe tbody tr th {\n",
       "        vertical-align: top;\n",
       "    }\n",
       "\n",
       "    .dataframe thead th {\n",
       "        text-align: right;\n",
       "    }\n",
       "</style>\n",
       "<table border=\"1\" class=\"dataframe\">\n",
       "  <thead>\n",
       "    <tr style=\"text-align: right;\">\n",
       "      <th></th>\n",
       "      <th>longitude</th>\n",
       "      <th>latitude</th>\n",
       "      <th>housing_median_age</th>\n",
       "      <th>total_rooms</th>\n",
       "      <th>total_bedrooms</th>\n",
       "      <th>population</th>\n",
       "      <th>households</th>\n",
       "      <th>median_income</th>\n",
       "      <th>median_house_value</th>\n",
       "    </tr>\n",
       "  </thead>\n",
       "  <tbody>\n",
       "    <tr>\n",
       "      <th>0</th>\n",
       "      <td>-114.31</td>\n",
       "      <td>34.19</td>\n",
       "      <td>15.0</td>\n",
       "      <td>5612.0</td>\n",
       "      <td>1283.0</td>\n",
       "      <td>1015.0</td>\n",
       "      <td>472.0</td>\n",
       "      <td>1.4936</td>\n",
       "      <td>66900.0</td>\n",
       "    </tr>\n",
       "    <tr>\n",
       "      <th>1</th>\n",
       "      <td>-114.47</td>\n",
       "      <td>34.40</td>\n",
       "      <td>19.0</td>\n",
       "      <td>7650.0</td>\n",
       "      <td>1901.0</td>\n",
       "      <td>1129.0</td>\n",
       "      <td>463.0</td>\n",
       "      <td>1.8200</td>\n",
       "      <td>80100.0</td>\n",
       "    </tr>\n",
       "    <tr>\n",
       "      <th>2</th>\n",
       "      <td>-114.56</td>\n",
       "      <td>33.69</td>\n",
       "      <td>17.0</td>\n",
       "      <td>720.0</td>\n",
       "      <td>174.0</td>\n",
       "      <td>333.0</td>\n",
       "      <td>117.0</td>\n",
       "      <td>1.6509</td>\n",
       "      <td>85700.0</td>\n",
       "    </tr>\n",
       "    <tr>\n",
       "      <th>3</th>\n",
       "      <td>-114.57</td>\n",
       "      <td>33.64</td>\n",
       "      <td>14.0</td>\n",
       "      <td>1501.0</td>\n",
       "      <td>337.0</td>\n",
       "      <td>515.0</td>\n",
       "      <td>226.0</td>\n",
       "      <td>3.1917</td>\n",
       "      <td>73400.0</td>\n",
       "    </tr>\n",
       "    <tr>\n",
       "      <th>4</th>\n",
       "      <td>-114.57</td>\n",
       "      <td>33.57</td>\n",
       "      <td>20.0</td>\n",
       "      <td>1454.0</td>\n",
       "      <td>326.0</td>\n",
       "      <td>624.0</td>\n",
       "      <td>262.0</td>\n",
       "      <td>1.9250</td>\n",
       "      <td>65500.0</td>\n",
       "    </tr>\n",
       "  </tbody>\n",
       "</table>\n",
       "</div>"
      ],
      "text/plain": [
       "   longitude  latitude  housing_median_age  total_rooms  total_bedrooms  \\\n",
       "0    -114.31     34.19                15.0       5612.0          1283.0   \n",
       "1    -114.47     34.40                19.0       7650.0          1901.0   \n",
       "2    -114.56     33.69                17.0        720.0           174.0   \n",
       "3    -114.57     33.64                14.0       1501.0           337.0   \n",
       "4    -114.57     33.57                20.0       1454.0           326.0   \n",
       "\n",
       "   population  households  median_income  median_house_value  \n",
       "0      1015.0       472.0         1.4936             66900.0  \n",
       "1      1129.0       463.0         1.8200             80100.0  \n",
       "2       333.0       117.0         1.6509             85700.0  \n",
       "3       515.0       226.0         3.1917             73400.0  \n",
       "4       624.0       262.0         1.9250             65500.0  "
      ]
     },
     "execution_count": 56,
     "metadata": {},
     "output_type": "execute_result"
    }
   ],
   "source": [
    "df = pd.read_csv(\"https://raw.githubusercontent.com/data-bootcamp-v4/data/main/california_housing.csv\")\n",
    "df.head()"
   ]
  },
  {
   "cell_type": "markdown",
   "metadata": {},
   "source": [
    "**We posit that houses close to either a school or a hospital are more expensive.**\n",
    "\n",
    "- School coordinates (-118, 37)\n",
    "- Hospital coordinates (-122, 34)\n",
    "\n",
    "We consider a house (neighborhood) to be close to a school or hospital if the distance is lower than 0.50.\n",
    "\n",
    "Hint:\n",
    "- Write a function to calculate euclidean distance from each house (neighborhood) to the school and to the hospital.\n",
    "- Divide your dataset into houses close and far from either a hospital or school.\n",
    "- Choose the propper test and, with 5% significance, comment your findings.\n",
    " "
   ]
  },
  {
   "cell_type": "code",
   "execution_count": 58,
   "metadata": {
    "scrolled": true
   },
   "outputs": [
    {
     "data": {
      "text/html": [
       "<div>\n",
       "<style scoped>\n",
       "    .dataframe tbody tr th:only-of-type {\n",
       "        vertical-align: middle;\n",
       "    }\n",
       "\n",
       "    .dataframe tbody tr th {\n",
       "        vertical-align: top;\n",
       "    }\n",
       "\n",
       "    .dataframe thead th {\n",
       "        text-align: right;\n",
       "    }\n",
       "</style>\n",
       "<table border=\"1\" class=\"dataframe\">\n",
       "  <thead>\n",
       "    <tr style=\"text-align: right;\">\n",
       "      <th></th>\n",
       "      <th>latitude</th>\n",
       "      <th>longitude</th>\n",
       "      <th>distance_to_school</th>\n",
       "      <th>distance_to_hospital</th>\n",
       "    </tr>\n",
       "  </thead>\n",
       "  <tbody>\n",
       "    <tr>\n",
       "      <th>0</th>\n",
       "      <td>34.19</td>\n",
       "      <td>-114.31</td>\n",
       "      <td>4.638125</td>\n",
       "      <td>7.692347</td>\n",
       "    </tr>\n",
       "    <tr>\n",
       "      <th>1</th>\n",
       "      <td>34.40</td>\n",
       "      <td>-114.47</td>\n",
       "      <td>4.384165</td>\n",
       "      <td>7.540617</td>\n",
       "    </tr>\n",
       "    <tr>\n",
       "      <th>2</th>\n",
       "      <td>33.69</td>\n",
       "      <td>-114.56</td>\n",
       "      <td>4.773856</td>\n",
       "      <td>7.446456</td>\n",
       "    </tr>\n",
       "    <tr>\n",
       "      <th>3</th>\n",
       "      <td>33.64</td>\n",
       "      <td>-114.57</td>\n",
       "      <td>4.801510</td>\n",
       "      <td>7.438716</td>\n",
       "    </tr>\n",
       "    <tr>\n",
       "      <th>4</th>\n",
       "      <td>33.57</td>\n",
       "      <td>-114.57</td>\n",
       "      <td>4.850753</td>\n",
       "      <td>7.442432</td>\n",
       "    </tr>\n",
       "    <tr>\n",
       "      <th>...</th>\n",
       "      <td>...</td>\n",
       "      <td>...</td>\n",
       "      <td>...</td>\n",
       "      <td>...</td>\n",
       "    </tr>\n",
       "    <tr>\n",
       "      <th>16995</th>\n",
       "      <td>40.58</td>\n",
       "      <td>-124.26</td>\n",
       "      <td>7.211380</td>\n",
       "      <td>6.957298</td>\n",
       "    </tr>\n",
       "    <tr>\n",
       "      <th>16996</th>\n",
       "      <td>40.69</td>\n",
       "      <td>-124.27</td>\n",
       "      <td>7.275232</td>\n",
       "      <td>7.064630</td>\n",
       "    </tr>\n",
       "    <tr>\n",
       "      <th>16997</th>\n",
       "      <td>41.84</td>\n",
       "      <td>-124.30</td>\n",
       "      <td>7.944533</td>\n",
       "      <td>8.170410</td>\n",
       "    </tr>\n",
       "    <tr>\n",
       "      <th>16998</th>\n",
       "      <td>41.80</td>\n",
       "      <td>-124.30</td>\n",
       "      <td>7.920227</td>\n",
       "      <td>8.132035</td>\n",
       "    </tr>\n",
       "    <tr>\n",
       "      <th>16999</th>\n",
       "      <td>40.54</td>\n",
       "      <td>-124.35</td>\n",
       "      <td>7.270083</td>\n",
       "      <td>6.949396</td>\n",
       "    </tr>\n",
       "  </tbody>\n",
       "</table>\n",
       "<p>17000 rows × 4 columns</p>\n",
       "</div>"
      ],
      "text/plain": [
       "       latitude  longitude  distance_to_school  distance_to_hospital\n",
       "0         34.19    -114.31            4.638125              7.692347\n",
       "1         34.40    -114.47            4.384165              7.540617\n",
       "2         33.69    -114.56            4.773856              7.446456\n",
       "3         33.64    -114.57            4.801510              7.438716\n",
       "4         33.57    -114.57            4.850753              7.442432\n",
       "...         ...        ...                 ...                   ...\n",
       "16995     40.58    -124.26            7.211380              6.957298\n",
       "16996     40.69    -124.27            7.275232              7.064630\n",
       "16997     41.84    -124.30            7.944533              8.170410\n",
       "16998     41.80    -124.30            7.920227              8.132035\n",
       "16999     40.54    -124.35            7.270083              6.949396\n",
       "\n",
       "[17000 rows x 4 columns]"
      ]
     },
     "execution_count": 58,
     "metadata": {},
     "output_type": "execute_result"
    }
   ],
   "source": [
    "import pandas as pd\n",
    "import numpy as np\n",
    "data = df[['latitude', 'longitude']]\n",
    "lat_long_df = pd.DataFrame(data)\n",
    "\n",
    "# # Coordinates for the school and hospital\n",
    "school_coordinates = (-118, 37)   # school coordinates\n",
    "hospital_coordinates = (-122, 34)  # hospital coordinates\n",
    "\n",
    "def calculate_euclidean_distance(df, school_coordinates, hospital_coordinates):\n",
    "\n",
    "    school_lon, school_lat = school_coordinates\n",
    "    hospital_lon, hospital_lat = hospital_coordinates\n",
    "\n",
    "    df['distance_to_school'] = np.sqrt((df['latitude'] - school_lat) ** 2 + (df['longitude'] - school_lon) ** 2)\n",
    "    df['distance_to_hospital'] = np.sqrt((df['latitude'] - hospital_lat) ** 2 + (df['longitude'] - hospital_lon) ** 2)\n",
    "    \n",
    "\n",
    "    return df\n",
    "\n",
    "calculate_euclidean_distance(lat_long_df, school_coordinates, hospital_coordinates)"
   ]
  },
  {
   "cell_type": "code",
   "execution_count": 97,
   "metadata": {},
   "outputs": [
    {
     "data": {
      "text/html": [
       "<div>\n",
       "<style scoped>\n",
       "    .dataframe tbody tr th:only-of-type {\n",
       "        vertical-align: middle;\n",
       "    }\n",
       "\n",
       "    .dataframe tbody tr th {\n",
       "        vertical-align: top;\n",
       "    }\n",
       "\n",
       "    .dataframe thead th {\n",
       "        text-align: right;\n",
       "    }\n",
       "</style>\n",
       "<table border=\"1\" class=\"dataframe\">\n",
       "  <thead>\n",
       "    <tr style=\"text-align: right;\">\n",
       "      <th></th>\n",
       "      <th>longitude</th>\n",
       "      <th>latitude</th>\n",
       "      <th>housing_median_age</th>\n",
       "      <th>total_rooms</th>\n",
       "      <th>total_bedrooms</th>\n",
       "      <th>population</th>\n",
       "      <th>households</th>\n",
       "      <th>median_income</th>\n",
       "      <th>median_house_value</th>\n",
       "    </tr>\n",
       "  </thead>\n",
       "  <tbody>\n",
       "    <tr>\n",
       "      <th>4523</th>\n",
       "      <td>-118.05</td>\n",
       "      <td>36.64</td>\n",
       "      <td>34.0</td>\n",
       "      <td>2090.0</td>\n",
       "      <td>478.0</td>\n",
       "      <td>896.0</td>\n",
       "      <td>426.0</td>\n",
       "      <td>2.0357</td>\n",
       "      <td>74200.0</td>\n",
       "    </tr>\n",
       "    <tr>\n",
       "      <th>5596</th>\n",
       "      <td>-118.18</td>\n",
       "      <td>37.35</td>\n",
       "      <td>16.0</td>\n",
       "      <td>3806.0</td>\n",
       "      <td>794.0</td>\n",
       "      <td>1501.0</td>\n",
       "      <td>714.0</td>\n",
       "      <td>2.1212</td>\n",
       "      <td>108300.0</td>\n",
       "    </tr>\n",
       "    <tr>\n",
       "      <th>5597</th>\n",
       "      <td>-118.18</td>\n",
       "      <td>36.63</td>\n",
       "      <td>23.0</td>\n",
       "      <td>2311.0</td>\n",
       "      <td>487.0</td>\n",
       "      <td>1019.0</td>\n",
       "      <td>384.0</td>\n",
       "      <td>2.2574</td>\n",
       "      <td>104700.0</td>\n",
       "    </tr>\n",
       "    <tr>\n",
       "      <th>6776</th>\n",
       "      <td>-118.30</td>\n",
       "      <td>37.17</td>\n",
       "      <td>22.0</td>\n",
       "      <td>3480.0</td>\n",
       "      <td>673.0</td>\n",
       "      <td>1541.0</td>\n",
       "      <td>636.0</td>\n",
       "      <td>2.7500</td>\n",
       "      <td>94500.0</td>\n",
       "    </tr>\n",
       "    <tr>\n",
       "      <th>6904</th>\n",
       "      <td>-118.31</td>\n",
       "      <td>36.94</td>\n",
       "      <td>35.0</td>\n",
       "      <td>2563.0</td>\n",
       "      <td>530.0</td>\n",
       "      <td>861.0</td>\n",
       "      <td>371.0</td>\n",
       "      <td>2.3250</td>\n",
       "      <td>80600.0</td>\n",
       "    </tr>\n",
       "  </tbody>\n",
       "</table>\n",
       "</div>"
      ],
      "text/plain": [
       "      longitude  latitude  housing_median_age  total_rooms  total_bedrooms  \\\n",
       "4523    -118.05     36.64                34.0       2090.0           478.0   \n",
       "5596    -118.18     37.35                16.0       3806.0           794.0   \n",
       "5597    -118.18     36.63                23.0       2311.0           487.0   \n",
       "6776    -118.30     37.17                22.0       3480.0           673.0   \n",
       "6904    -118.31     36.94                35.0       2563.0           530.0   \n",
       "\n",
       "      population  households  median_income  median_house_value  \n",
       "4523       896.0       426.0         2.0357             74200.0  \n",
       "5596      1501.0       714.0         2.1212            108300.0  \n",
       "5597      1019.0       384.0         2.2574            104700.0  \n",
       "6776      1541.0       636.0         2.7500             94500.0  \n",
       "6904       861.0       371.0         2.3250             80600.0  "
      ]
     },
     "execution_count": 97,
     "metadata": {},
     "output_type": "execute_result"
    }
   ],
   "source": [
    "df_houses_close = df[(lat_long_df['distance_to_school'] < 0.50) | (lat_long_df['distance_to_hospital'] < 0.5)]\n",
    "df_houses_close   "
   ]
  },
  {
   "cell_type": "code",
   "execution_count": 99,
   "metadata": {},
   "outputs": [
    {
     "data": {
      "text/html": [
       "<div>\n",
       "<style scoped>\n",
       "    .dataframe tbody tr th:only-of-type {\n",
       "        vertical-align: middle;\n",
       "    }\n",
       "\n",
       "    .dataframe tbody tr th {\n",
       "        vertical-align: top;\n",
       "    }\n",
       "\n",
       "    .dataframe thead th {\n",
       "        text-align: right;\n",
       "    }\n",
       "</style>\n",
       "<table border=\"1\" class=\"dataframe\">\n",
       "  <thead>\n",
       "    <tr style=\"text-align: right;\">\n",
       "      <th></th>\n",
       "      <th>longitude</th>\n",
       "      <th>latitude</th>\n",
       "      <th>housing_median_age</th>\n",
       "      <th>total_rooms</th>\n",
       "      <th>total_bedrooms</th>\n",
       "      <th>population</th>\n",
       "      <th>households</th>\n",
       "      <th>median_income</th>\n",
       "      <th>median_house_value</th>\n",
       "    </tr>\n",
       "  </thead>\n",
       "  <tbody>\n",
       "    <tr>\n",
       "      <th>0</th>\n",
       "      <td>-114.31</td>\n",
       "      <td>34.19</td>\n",
       "      <td>15.0</td>\n",
       "      <td>5612.0</td>\n",
       "      <td>1283.0</td>\n",
       "      <td>1015.0</td>\n",
       "      <td>472.0</td>\n",
       "      <td>1.4936</td>\n",
       "      <td>66900.0</td>\n",
       "    </tr>\n",
       "    <tr>\n",
       "      <th>1</th>\n",
       "      <td>-114.47</td>\n",
       "      <td>34.40</td>\n",
       "      <td>19.0</td>\n",
       "      <td>7650.0</td>\n",
       "      <td>1901.0</td>\n",
       "      <td>1129.0</td>\n",
       "      <td>463.0</td>\n",
       "      <td>1.8200</td>\n",
       "      <td>80100.0</td>\n",
       "    </tr>\n",
       "    <tr>\n",
       "      <th>2</th>\n",
       "      <td>-114.56</td>\n",
       "      <td>33.69</td>\n",
       "      <td>17.0</td>\n",
       "      <td>720.0</td>\n",
       "      <td>174.0</td>\n",
       "      <td>333.0</td>\n",
       "      <td>117.0</td>\n",
       "      <td>1.6509</td>\n",
       "      <td>85700.0</td>\n",
       "    </tr>\n",
       "    <tr>\n",
       "      <th>3</th>\n",
       "      <td>-114.57</td>\n",
       "      <td>33.64</td>\n",
       "      <td>14.0</td>\n",
       "      <td>1501.0</td>\n",
       "      <td>337.0</td>\n",
       "      <td>515.0</td>\n",
       "      <td>226.0</td>\n",
       "      <td>3.1917</td>\n",
       "      <td>73400.0</td>\n",
       "    </tr>\n",
       "    <tr>\n",
       "      <th>4</th>\n",
       "      <td>-114.57</td>\n",
       "      <td>33.57</td>\n",
       "      <td>20.0</td>\n",
       "      <td>1454.0</td>\n",
       "      <td>326.0</td>\n",
       "      <td>624.0</td>\n",
       "      <td>262.0</td>\n",
       "      <td>1.9250</td>\n",
       "      <td>65500.0</td>\n",
       "    </tr>\n",
       "    <tr>\n",
       "      <th>...</th>\n",
       "      <td>...</td>\n",
       "      <td>...</td>\n",
       "      <td>...</td>\n",
       "      <td>...</td>\n",
       "      <td>...</td>\n",
       "      <td>...</td>\n",
       "      <td>...</td>\n",
       "      <td>...</td>\n",
       "      <td>...</td>\n",
       "    </tr>\n",
       "    <tr>\n",
       "      <th>16995</th>\n",
       "      <td>-124.26</td>\n",
       "      <td>40.58</td>\n",
       "      <td>52.0</td>\n",
       "      <td>2217.0</td>\n",
       "      <td>394.0</td>\n",
       "      <td>907.0</td>\n",
       "      <td>369.0</td>\n",
       "      <td>2.3571</td>\n",
       "      <td>111400.0</td>\n",
       "    </tr>\n",
       "    <tr>\n",
       "      <th>16996</th>\n",
       "      <td>-124.27</td>\n",
       "      <td>40.69</td>\n",
       "      <td>36.0</td>\n",
       "      <td>2349.0</td>\n",
       "      <td>528.0</td>\n",
       "      <td>1194.0</td>\n",
       "      <td>465.0</td>\n",
       "      <td>2.5179</td>\n",
       "      <td>79000.0</td>\n",
       "    </tr>\n",
       "    <tr>\n",
       "      <th>16997</th>\n",
       "      <td>-124.30</td>\n",
       "      <td>41.84</td>\n",
       "      <td>17.0</td>\n",
       "      <td>2677.0</td>\n",
       "      <td>531.0</td>\n",
       "      <td>1244.0</td>\n",
       "      <td>456.0</td>\n",
       "      <td>3.0313</td>\n",
       "      <td>103600.0</td>\n",
       "    </tr>\n",
       "    <tr>\n",
       "      <th>16998</th>\n",
       "      <td>-124.30</td>\n",
       "      <td>41.80</td>\n",
       "      <td>19.0</td>\n",
       "      <td>2672.0</td>\n",
       "      <td>552.0</td>\n",
       "      <td>1298.0</td>\n",
       "      <td>478.0</td>\n",
       "      <td>1.9797</td>\n",
       "      <td>85800.0</td>\n",
       "    </tr>\n",
       "    <tr>\n",
       "      <th>16999</th>\n",
       "      <td>-124.35</td>\n",
       "      <td>40.54</td>\n",
       "      <td>52.0</td>\n",
       "      <td>1820.0</td>\n",
       "      <td>300.0</td>\n",
       "      <td>806.0</td>\n",
       "      <td>270.0</td>\n",
       "      <td>3.0147</td>\n",
       "      <td>94600.0</td>\n",
       "    </tr>\n",
       "  </tbody>\n",
       "</table>\n",
       "<p>17000 rows × 9 columns</p>\n",
       "</div>"
      ],
      "text/plain": [
       "       longitude  latitude  housing_median_age  total_rooms  total_bedrooms  \\\n",
       "0        -114.31     34.19                15.0       5612.0          1283.0   \n",
       "1        -114.47     34.40                19.0       7650.0          1901.0   \n",
       "2        -114.56     33.69                17.0        720.0           174.0   \n",
       "3        -114.57     33.64                14.0       1501.0           337.0   \n",
       "4        -114.57     33.57                20.0       1454.0           326.0   \n",
       "...          ...       ...                 ...          ...             ...   \n",
       "16995    -124.26     40.58                52.0       2217.0           394.0   \n",
       "16996    -124.27     40.69                36.0       2349.0           528.0   \n",
       "16997    -124.30     41.84                17.0       2677.0           531.0   \n",
       "16998    -124.30     41.80                19.0       2672.0           552.0   \n",
       "16999    -124.35     40.54                52.0       1820.0           300.0   \n",
       "\n",
       "       population  households  median_income  median_house_value  \n",
       "0          1015.0       472.0         1.4936             66900.0  \n",
       "1          1129.0       463.0         1.8200             80100.0  \n",
       "2           333.0       117.0         1.6509             85700.0  \n",
       "3           515.0       226.0         3.1917             73400.0  \n",
       "4           624.0       262.0         1.9250             65500.0  \n",
       "...           ...         ...            ...                 ...  \n",
       "16995       907.0       369.0         2.3571            111400.0  \n",
       "16996      1194.0       465.0         2.5179             79000.0  \n",
       "16997      1244.0       456.0         3.0313            103600.0  \n",
       "16998      1298.0       478.0         1.9797             85800.0  \n",
       "16999       806.0       270.0         3.0147             94600.0  \n",
       "\n",
       "[17000 rows x 9 columns]"
      ]
     },
     "execution_count": 99,
     "metadata": {},
     "output_type": "execute_result"
    }
   ],
   "source": [
    "df_houses_far = df[(lat_long_df['distance_to_school'] >= 0.50) | (lat_long_df['distance_to_hospital'] >= 0.5)]\n",
    "df_houses_far   "
   ]
  },
  {
   "cell_type": "code",
   "execution_count": 142,
   "metadata": {},
   "outputs": [],
   "source": [
    "alpha = 0.05"
   ]
  },
  {
   "cell_type": "code",
   "execution_count": 144,
   "metadata": {},
   "outputs": [
    {
     "data": {
      "text/plain": [
       "array([0.06496467, 0.08353479, 0.6772252 , 0.41619587, 0.38931952,\n",
       "       0.69780538, 0.48845359, 0.96841823, 0.98657781])"
      ]
     },
     "execution_count": 144,
     "metadata": {},
     "output_type": "execute_result"
    }
   ],
   "source": [
    "_, p_values = st.ttest_ind( df_houses_close,df_houses_far, alternative = 'greater')\n",
    "p_values"
   ]
  },
  {
   "cell_type": "code",
   "execution_count": 146,
   "metadata": {},
   "outputs": [
    {
     "name": "stdout",
     "output_type": "stream",
     "text": [
      "P-value: 0.0650 - We are not able to reject the null hypothesis\n",
      "P-value: 0.0835 - We are not able to reject the null hypothesis\n",
      "P-value: 0.6772 - We are not able to reject the null hypothesis\n",
      "P-value: 0.4162 - We are not able to reject the null hypothesis\n",
      "P-value: 0.3893 - We are not able to reject the null hypothesis\n",
      "P-value: 0.6978 - We are not able to reject the null hypothesis\n",
      "P-value: 0.4885 - We are not able to reject the null hypothesis\n",
      "P-value: 0.9684 - We are not able to reject the null hypothesis\n",
      "P-value: 0.9866 - We are not able to reject the null hypothesis\n"
     ]
    }
   ],
   "source": [
    "for p_value in p_values:\n",
    "    if p_value > alpha:\n",
    "        print(f\"P-value: {p_value:.4f} - We are not able to reject the null hypothesis\")\n",
    "    else:\n",
    "        print(f\"P-value: {p_value:.4f} - We reject the null hypothesis\")"
   ]
  },
  {
   "cell_type": "code",
   "execution_count": 148,
   "metadata": {},
   "outputs": [],
   "source": [
    "# H0: the houses close to either a school or a hospital are not more expensive\n",
    "# H1: the houses close to either a school or a hospital are  more expensive\n",
    "# p_value is negative, so we can reject  null hypothesis "
   ]
  },
  {
   "cell_type": "code",
   "execution_count": null,
   "metadata": {},
   "outputs": [],
   "source": []
  }
 ],
 "metadata": {
  "kernelspec": {
   "display_name": "Python 3 (ipykernel)",
   "language": "python",
   "name": "python3"
  },
  "language_info": {
   "codemirror_mode": {
    "name": "ipython",
    "version": 3
   },
   "file_extension": ".py",
   "mimetype": "text/x-python",
   "name": "python",
   "nbconvert_exporter": "python",
   "pygments_lexer": "ipython3",
   "version": "3.12.4"
  }
 },
 "nbformat": 4,
 "nbformat_minor": 4
}
